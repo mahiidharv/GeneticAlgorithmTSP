{
  "nbformat": 4,
  "nbformat_minor": 0,
  "metadata": {
    "colab": {
      "name": "Copy of  Style Transfer.ipynb",
      "version": "0.3.2",
      "provenance": [],
      "collapsed_sections": [],
      "include_colab_link": true
    },
    "kernelspec": {
      "name": "python3",
      "display_name": "Python 3"
    },
    "accelerator": "GPU"
  },
  "cells": [
    {
      "cell_type": "markdown",
      "metadata": {
        "id": "view-in-github",
        "colab_type": "text"
      },
      "source": [
        "<a href=\"https://colab.research.google.com/github/mahiidharv/GeneticAlgorithmTSP/blob/master/Copy_of_Style_Transfer.ipynb\" target=\"_parent\"><img src=\"https://colab.research.google.com/assets/colab-badge.svg\" alt=\"Open In Colab\"/></a>"
      ]
    },
    {
      "metadata": {
        "id": "7VlwtmcXGplq",
        "colab_type": "code",
        "colab": {}
      },
      "cell_type": "code",
      "source": [
        "from google.colab import drive\n",
        "drive.mount('/content/drive')"
      ],
      "execution_count": 0,
      "outputs": []
    },
    {
      "metadata": {
        "id": "PeHViV3_Jobe",
        "colab_type": "code",
        "colab": {}
      },
      "cell_type": "code",
      "source": [
        ""
      ],
      "execution_count": 0,
      "outputs": []
    },
    {
      "metadata": {
        "id": "n8AhYxMUGdW1",
        "colab_type": "code",
        "colab": {}
      },
      "cell_type": "code",
      "source": [
        ""
      ],
      "execution_count": 0,
      "outputs": []
    },
    {
      "metadata": {
        "id": "-xZXRDgIGieE",
        "colab_type": "text"
      },
      "cell_type": "markdown",
      "source": [
        "#### Loading Libraries"
      ]
    },
    {
      "metadata": {
        "id": "m85yLuStHA0I",
        "colab_type": "code",
        "colab": {}
      },
      "cell_type": "code",
      "source": [
        "import os\n",
        "import librosa\n",
        "from IPython.display import Audio,display\n",
        "import numpy as np\n",
        "import tensorflow as tf\n",
        "import matplotlib.pyplot as plt\n",
        "%matplotlib inline"
      ],
      "execution_count": 0,
      "outputs": []
    },
    {
      "metadata": {
        "id": "NHibLl_xBjlU",
        "colab_type": "code",
        "colab": {}
      },
      "cell_type": "code",
      "source": [
        "import tensorflow as tf\n",
        "sess = tf.Session()\n"
      ],
      "execution_count": 0,
      "outputs": []
    },
    {
      "metadata": {
        "id": "jRBBKsFjKIWI",
        "colab_type": "code",
        "colab": {}
      },
      "cell_type": "code",
      "source": [
        "os.listdir()"
      ],
      "execution_count": 0,
      "outputs": []
    },
    {
      "metadata": {
        "id": "LbAcnYdqKLkJ",
        "colab_type": "code",
        "colab": {}
      },
      "cell_type": "code",
      "source": [
        "!ls ./drive/My\\ Drive/Gem/MidiBeethovenandMozart"
      ],
      "execution_count": 0,
      "outputs": []
    },
    {
      "metadata": {
        "id": "C6HQYdAzGo89",
        "colab_type": "text"
      },
      "cell_type": "markdown",
      "source": [
        "#### Loading Data from Google Drive"
      ]
    },
    {
      "metadata": {
        "id": "QU8CwewlzCpl",
        "colab_type": "code",
        "colab": {}
      },
      "cell_type": "code",
      "source": [
        "CONTENT_FILENAME = \"/content/drive/My Drive/Gem/MidiBeethovenandMozart/beethovenminuetinG.wav\"\n",
        "STYLE_FILENAME = \"/content/drive/My Drive/Gem/MidiBeethovenandMozart/Mozartminuetk2.wav\" \n"
      ],
      "execution_count": 0,
      "outputs": []
    },
    {
      "metadata": {
        "id": "ZTdaucOGA3i9",
        "colab_type": "code",
        "colab": {}
      },
      "cell_type": "code",
      "source": [
        "#display(Audio(CONTENT_FILENAME))\n",
        "#display(Audio(STYLE_FILENAME))"
      ],
      "execution_count": 0,
      "outputs": []
    },
    {
      "metadata": {
        "id": "_Hz7p4I2GucG",
        "colab_type": "text"
      },
      "cell_type": "markdown",
      "source": [
        ""
      ]
    },
    {
      "metadata": {
        "id": "-6AnMSBWBTg8",
        "colab_type": "code",
        "colab": {}
      },
      "cell_type": "code",
      "source": [
        "N_FFT = 2048\n",
        "def read_audio_spectum(filename):\n",
        "    x, fs = librosa.load(filename)\n",
        "    S = librosa.stft(x, N_FFT)\n",
        "    print(S.shape)\n",
        "    p = np.angle(S)\n",
        "    \n",
        "    S = np.log1p(np.abs(S[:,:500]))  \n",
        "    return S, fs"
      ],
      "execution_count": 0,
      "outputs": []
    },
    {
      "metadata": {
        "id": "YsTGSlr-BXZE",
        "colab_type": "code",
        "colab": {}
      },
      "cell_type": "code",
      "source": [
        "a_content, fs = read_audio_spectum(CONTENT_FILENAME)\n",
        "a_style, fs = read_audio_spectum(STYLE_FILENAME)\n",
        "\n",
        "N_SAMPLES = a_content.shape[1]\n",
        "N_CHANNELS = a_content.shape[0]\n",
        "print(N_SAMPLES)\n",
        "print(N_CHANNELS)\n",
        "a_style = a_style[:N_CHANNELS, :N_SAMPLES]\n",
        "print(a_content[:5,:5])\n",
        "print(a_style[:5,:5])\n",
        "print(a_style.shape)"
      ],
      "execution_count": 0,
      "outputs": []
    },
    {
      "metadata": {
        "id": "3Y-gt5RM3VGa",
        "colab_type": "code",
        "colab": {}
      },
      "cell_type": "code",
      "source": [
        "print(a_style[0:,1])"
      ],
      "execution_count": 0,
      "outputs": []
    },
    {
      "metadata": {
        "id": "1Vnljtdsjxy6",
        "colab_type": "code",
        "colab": {}
      },
      "cell_type": "code",
      "source": [
        "plt.style.use('classic')"
      ],
      "execution_count": 0,
      "outputs": []
    },
    {
      "metadata": {
        "id": "r7l55oB65K0U",
        "colab_type": "code",
        "colab": {}
      },
      "cell_type": "code",
      "source": [
        "from librosa import display"
      ],
      "execution_count": 0,
      "outputs": []
    },
    {
      "metadata": {
        "id": "R3yegpZ-GzsN",
        "colab_type": "text"
      },
      "cell_type": "markdown",
      "source": [
        "#### plotting the Spectogram"
      ]
    },
    {
      "metadata": {
        "id": "PG-tZOZfBZTd",
        "colab_type": "code",
        "colab": {}
      },
      "cell_type": "code",
      "source": [
        "plt.figure(figsize=(10, 5))\n",
        "plt.subplot(1, 2, 1)\n",
        "plt.title('Content')\n",
        "librosa.display.specshow(a_content, y_axis='log',x_axis='time')\n",
        "plt.colorbar(format='%+2.0f dB')\n",
        "#plt.imshow(a_content[:500,:])\n",
        "plt.subplot(1, 2, 2)\n",
        "plt.title('Style')\n",
        "librosa.display.specshow(a_style, y_axis='log',x_axis='time')\n",
        "plt.colorbar(format='%+2.0f dB')\n",
        "#plt.imshow(a_style[:500,:])\n",
        "plt.show()"
      ],
      "execution_count": 0,
      "outputs": []
    },
    {
      "metadata": {
        "id": "ZHs7BpTbG3wK",
        "colab_type": "text"
      },
      "cell_type": "markdown",
      "source": [
        "#### Adding the Filter Initialization"
      ]
    },
    {
      "metadata": {
        "id": "WNBrLl0lBbEM",
        "colab_type": "code",
        "colab": {}
      },
      "cell_type": "code",
      "source": [
        "N_FILTERS = 4096\n",
        "\n",
        "a_content_tf = np.ascontiguousarray(a_content.T[None,None,:,:])\n",
        "a_style_tf = np.ascontiguousarray(a_style.T[None,None,:,:])"
      ],
      "execution_count": 0,
      "outputs": []
    },
    {
      "metadata": {
        "id": "dLYwZ0aVBdBW",
        "colab_type": "code",
        "colab": {}
      },
      "cell_type": "code",
      "source": [
        "from sys import stderr"
      ],
      "execution_count": 0,
      "outputs": []
    },
    {
      "metadata": {
        "id": "XlGnMnn-Bo7U",
        "colab_type": "code",
        "colab": {}
      },
      "cell_type": "code",
      "source": [
        "std = np.sqrt(2) * np.sqrt(2.0 / ((N_CHANNELS + N_FILTERS) * 11))\n",
        "kernel = np.random.randn(1, 11, N_CHANNELS, N_FILTERS)*std\n",
        "x = tf.placeholder('float32', [1,1,N_SAMPLES,N_CHANNELS], name=\"x\")\n",
        "kernel_tf = tf.constant(kernel, name=\"kernel\", dtype='float32')"
      ],
      "execution_count": 0,
      "outputs": []
    },
    {
      "metadata": {
        "id": "RZBC5hjqG9Qm",
        "colab_type": "text"
      },
      "cell_type": "markdown",
      "source": [
        "#### Creating the Computational Graph"
      ]
    },
    {
      "metadata": {
        "id": "P1hnE7eDBq31",
        "colab_type": "code",
        "colab": {}
      },
      "cell_type": "code",
      "source": [
        "g = tf.Graph()\n",
        "with g.as_default(), g.device('/gpu:0'), tf.Session() as sess:\n",
        "    # data shape is \"[batch, in_height, in_width, in_channels]\",\n",
        "    x = tf.placeholder('float32', [1,1,N_SAMPLES,N_CHANNELS], name=\"x\")\n",
        "    print(x)\n",
        "    kernel_tf = tf.constant(kernel, name=\"kernel\", dtype='float32')\n",
        "    conv = tf.nn.conv2d(\n",
        "        x,\n",
        "        kernel_tf,\n",
        "        strides=[1, 1, 1, 1],\n",
        "        padding=\"VALID\",\n",
        "        name=\"conv\")\n",
        "    \n",
        "    relu_conv = tf.nn.elu(conv)\n",
        "    net = tf.layers.max_pooling2d(inputs=relu_conv, pool_size=[1, 1], strides=1)\n",
        "    content_features = net.eval(feed_dict={x: a_content_tf})\n",
        "    style_features = net.eval(feed_dict={x: a_style_tf})\n",
        "    print(content_features.shape)\n",
        "    print(style_features.shape)\n",
        "    features = np.reshape(style_features, (-1, N_FILTERS))\n",
        "    print(features.shape)\n",
        "    style_gram = np.matmul(features.T, features) / N_SAMPLES\n",
        "    print(style_gram.shape)"
      ],
      "execution_count": 0,
      "outputs": []
    },
    {
      "metadata": {
        "id": "x8bd0ktJHDG8",
        "colab_type": "text"
      },
      "cell_type": "markdown",
      "source": [
        "#### Minimizing the Total Loss"
      ]
    },
    {
      "metadata": {
        "id": "5hmMFBY6Bs9M",
        "colab_type": "code",
        "colab": {}
      },
      "cell_type": "code",
      "source": [
        "from sys import stderr\n",
        "\n",
        "ALPHA= 1e-2\n",
        "learning_rate= 1e-3\n",
        "iterations = 1000\n",
        "\n",
        "result = None\n",
        "with tf.Graph().as_default():\n",
        "\n",
        "    # Build graph with variable input\n",
        "#     x = tf.Variable(np.zeros([1,1,N_SAMPLES,N_CHANNELS], dtype=np.float32), name=\"x\")\n",
        "    x = tf.Variable(np.random.randn(1,1,N_SAMPLES,N_CHANNELS).astype(np.float32)*1e-3, name=\"x\")\n",
        "    print(x.shape)\n",
        "    kernel_tf = tf.constant(kernel, name=\"kernel\", dtype='float32')\n",
        "    conv = tf.nn.conv2d(\n",
        "        x,\n",
        "        kernel_tf,\n",
        "        strides=[1, 1, 1, 1],\n",
        "        padding=\"VALID\",\n",
        "        name=\"conv\")\n",
        "    \n",
        "    \n",
        "    relu_conv = tf.nn.elu(conv)\n",
        "    net = tf.layers.max_pooling2d(inputs=relu_conv, pool_size=[1, 1], strides=1)\n",
        "    print(net.get_shape)\n",
        "    content_loss = ALPHA * 2 * tf.nn.l2_loss(\n",
        "            net - content_features)\n",
        "\n",
        "    style_loss = 0\n",
        "\n",
        "    _, height, width, number = map(lambda i: i.value, net.get_shape())\n",
        "    print(\"height=\",height)\n",
        "    print(\"width=\",width)\n",
        "    print(\"number=\",number)\n",
        "    size = height * width * number\n",
        "    feats = tf.reshape(net, (-1, number))\n",
        "    print(feats.shape)\n",
        "    gram = tf.matmul(tf.transpose(feats), feats)  / N_SAMPLES\n",
        "    style_loss = 2 * tf.nn.l2_loss(gram - style_gram)\n",
        "\n",
        "     # Overall loss\n",
        "    loss = content_loss + style_loss\n",
        "\n",
        "    opt = tf.contrib.opt.ScipyOptimizerInterface(\n",
        "          loss, method='L-BFGS-B', options={'maxiter':1000})\n",
        "    #opt = tf.contrib.opt.ScipyOptimizerInterface(loss,method='SLSQP',options={'maxiter':1000})\n",
        "    # Optimization\n",
        "    with tf.Session() as sess:\n",
        "        sess.run(tf.initialize_all_variables())\n",
        "       \n",
        "        print('Started optimization.')\n",
        "        opt.minimize(sess)\n",
        "    \n",
        "        print ('Final loss:', loss.eval())\n",
        "        result = x.eval()"
      ],
      "execution_count": 0,
      "outputs": []
    },
    {
      "metadata": {
        "id": "JuuAph0KHJBw",
        "colab_type": "text"
      },
      "cell_type": "markdown",
      "source": [
        "#### Inverse FFT to get back Audio"
      ]
    },
    {
      "metadata": {
        "id": "5ZAMAytsBvW1",
        "colab_type": "code",
        "colab": {}
      },
      "cell_type": "code",
      "source": [
        "a = np.zeros_like(a_content)\n",
        "a[:N_CHANNELS,:] = np.exp(result[0,0].T) - 1\n",
        "\n",
        "# This code is supposed to do phase reconstruction\n",
        "p = 2 * np.pi * np.random.random_sample(a.shape) - np.pi\n",
        "for i in range(500):\n",
        "    S = a * np.exp(1j*p)\n",
        "    x = librosa.istft(S)\n",
        "    p = np.angle(librosa.stft(x, N_FFT))\n",
        "\n",
        "OUTPUT_FILENAME = '/content/drive/My Drive/Gem/MidiBeethovenandMozart/Style4.wav'\n",
        "librosa.output.write_wav(OUTPUT_FILENAME, x, fs)"
      ],
      "execution_count": 0,
      "outputs": []
    },
    {
      "metadata": {
        "id": "tcqm5T4JBxbN",
        "colab_type": "code",
        "colab": {}
      },
      "cell_type": "code",
      "source": [
        "#print( OUTPUT_FILENAME)\n",
        "#display(Audio(OUTPUT_FILENAME))"
      ],
      "execution_count": 0,
      "outputs": []
    },
    {
      "metadata": {
        "id": "zwIs8t1EHRjy",
        "colab_type": "text"
      },
      "cell_type": "markdown",
      "source": [
        "#### Plotting the Results"
      ]
    },
    {
      "metadata": {
        "id": "PCZ4gx10EXyc",
        "colab_type": "code",
        "colab": {}
      },
      "cell_type": "code",
      "source": [
        "plt.figure(figsize=(15,5))\n",
        "plt.subplot(1,3,1)\n",
        "plt.title('Content')\n",
        "librosa.display.specshow(a_content, y_axis='log',x_axis='time')\n",
        "plt.colorbar(format='%+2.0f dB')\n",
        "#plt.imshow(a_content[:400,:])\n",
        "plt.subplot(1,3,2)\n",
        "plt.title('Style')\n",
        "librosa.display.specshow(a_style, y_axis='log',x_axis='time')\n",
        "plt.colorbar(format='%+2.0f dB')\n",
        "#plt.imshow(a_style[:400,:])\n",
        "plt.subplot(1,3,3)\n",
        "plt.title('Result')\n",
        "librosa.display.specshow(a, y_axis='log',x_axis='time')\n",
        "plt.colorbar(format='%+2.0f dB')\n",
        "#plt.imshow(a[:400,:])\n",
        "plt.show()"
      ],
      "execution_count": 0,
      "outputs": []
    }
  ]
}